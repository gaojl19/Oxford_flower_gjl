{
 "cells": [
  {
   "cell_type": "code",
   "execution_count": 1,
   "metadata": {},
   "outputs": [
    {
     "name": "stderr",
     "output_type": "stream",
     "text": [
      "\u001b[38;5;2m[i 0327 11:30:47.131266 24 compiler.py:949] Jittor(1.3.1.53) src: /usr/local/lib/python3.7/dist-packages/jittor\u001b[m\n",
      "\u001b[38;5;2m[i 0327 11:30:47.137473 24 compiler.py:950] g++ at /usr/bin/g++(7.5.0)\u001b[m\n",
      "\u001b[38;5;2m[i 0327 11:30:47.138434 24 compiler.py:951] cache_path: /root/.cache/jittor/jt1.3.1/g++7.5.0/py3.7.5/Linux-5.4.0-96x21/IntelRXeonRCPUx84/default\u001b[m\n",
      "\u001b[38;5;2m[i 0327 11:30:47.144243 24 __init__.py:411] Found /usr/local/cuda/bin/nvcc(10.2.89) at /usr/local/cuda/bin/nvcc.\u001b[m\n",
      "\u001b[38;5;2m[i 0327 11:30:47.150539 24 __init__.py:411] Found addr2line(2.30) at /usr/bin/addr2line.\u001b[m\n",
      "\u001b[38;5;2m[i 0327 11:30:47.264240 24 compiler.py:1004] cuda key:cu10.2.89_sm_61\u001b[m\n",
      "\u001b[38;5;2m[i 0327 11:30:47.461625 24 __init__.py:227] Total mem: 219.71GB, using 16 procs for compiling.\u001b[m\n",
      "\u001b[38;5;2m[i 0327 11:30:47.607411 24 jit_compiler.cc:28] Load cc_path: /usr/bin/g++\u001b[m\n",
      "\u001b[38;5;2m[i 0327 11:30:47.860267 24 init.cc:62] Found cuda archs: [61,]\u001b[m\n",
      "\u001b[38;5;2m[i 0327 11:30:48.038289 24 __init__.py:411] Found mpicc(2.1.1) at /usr/bin/mpicc.\u001b[m\n",
      "\u001b[38;5;2m[i 0327 11:30:48.149407 24 compile_extern.py:30] found /usr/include/cublas.h\u001b[m\n",
      "\u001b[38;5;2m[i 0327 11:30:48.158437 24 compile_extern.py:30] found /usr/lib/x86_64-linux-gnu/libcublas.so\u001b[m\n",
      "\u001b[38;5;2m[i 0327 11:30:48.159727 24 compile_extern.py:30] found /usr/lib/x86_64-linux-gnu/libcublasLt.so.10\u001b[m\n",
      "\u001b[38;5;2m[i 0327 11:30:48.367889 24 compile_extern.py:30] found /usr/include/cudnn.h\u001b[m\n",
      "\u001b[38;5;2m[i 0327 11:30:48.380669 24 compile_extern.py:30] found /usr/lib/x86_64-linux-gnu/libcudnn.so\u001b[m\n",
      "\u001b[38;5;2m[i 0327 11:30:49.083962 24 compile_extern.py:30] found /usr/local/cuda/include/curand.h\u001b[m\n",
      "\u001b[38;5;2m[i 0327 11:30:49.103846 24 compile_extern.py:30] found /usr/local/cuda/lib64/libcurand.so\u001b[m\n",
      "\u001b[38;5;2m[i 0327 11:30:49.403441 24 dataset.py:630] Found 102 classes and 1020 images.\u001b[m\n",
      "\u001b[38;5;2m[i 0327 11:30:49.409828 24 dataset.py:630] Found 102 classes and 1020 images.\u001b[m\n",
      "\u001b[38;5;2m[i 0327 11:30:49.435333 24 dataset.py:630] Found 102 classes and 6149 images.\u001b[m\n",
      "\u001b[38;5;2m[i 0327 11:30:49.970198 24 cuda_flags.cc:32] CUDA enabled.\u001b[m\n",
      "Test acc=0.39: 100%|██████████| 6149/6149 [03:24<00:00, 30.01it/s]\n"
     ]
    },
    {
     "data": {
      "text/plain": [
       "<Figure size 2160x2160 with 0 Axes>"
      ]
     },
     "metadata": {},
     "output_type": "display_data"
    },
    {
     "data": {
      "image/png": "[encoded data removed]",
      "text/plain": [
       "<Figure size 432x288 with 1 Axes>"
      ]
     },
     "metadata": {
      "needs_background": "light"
     },
     "output_type": "display_data"
    },
    {
     "data": {
      "text/plain": [
       "<Figure size 432x288 with 0 Axes>"
      ]
     },
     "metadata": {},
     "output_type": "display_data"
    },
    {
     "data": {
      "image/png": "[encoded data removed]",
      "text/plain": [
       "<Figure size 432x288 with 1 Axes>"
      ]
     },
     "metadata": {
      "needs_background": "light"
     },
     "output_type": "display_data"
    },
    {
     "data": {
      "text/plain": [
       "<Figure size 432x288 with 0 Axes>"
      ]
     },
     "metadata": {},
     "output_type": "display_data"
    }
   ],
   "source": [
    "from ast import parse\n",
    "import jittor as jt\n",
    "from jittor import nn\n",
    "from jittor.lr_scheduler import CosineAnnealingLR, MultiStepLR\n",
    "from matplotlib.pyplot import plot\n",
    "\n",
    "import datasets\n",
    "from datasets.dataloader import *\n",
    "\n",
    "import models\n",
    "from models.model import *\n",
    "from models.transformer import *\n",
    "\n",
    "import tools\n",
    "from tools.train import *\n",
    "\n",
    "import os\n",
    "import json\n",
    "\n",
    "jt.flags.use_cuda = 1\n",
    "jt.set_global_seed(648)\n",
    "\n",
    "# 加载模型\n",
    "def build_model(model_type):\n",
    "    if model_type == \"ConvMixer\":\n",
    "        model = ConvMixer_768_32()\n",
    "    elif model_type == \"MLPMixer\":\n",
    "        model = MLPMixer_S_16()\n",
    "    elif model_type == \"VIT\":\n",
    "        model = vit_small_patch16_224()\n",
    "    else:\n",
    "        raise NotImplementedError(\"model type {model_type} is not supported right now\\n\")\n",
    "    \n",
    "    return model\n",
    "\n",
    "\n",
    "def test():\n",
    "    \n",
    "    model = build_model(\"ConvMixer\")\n",
    "\n",
    "    # 从checkpoint中加载\n",
    "    \n",
    "    model.load(\"./log/ConvMixer_lr0.001/\"+ \"model_best.pkl\")\n",
    "    \n",
    "    test_one_epoch(model, testdataset)\n",
    "    \n",
    "\n",
    "\n",
    "\n",
    "test()\n",
    "    \n",
    "\n",
    "    "
   ]
  }
 ],
 "metadata": {
  "interpreter": {
   "hash": "fd69f43f58546b570e94fd7eba7b65e6bcc7a5bbc4eab0408017d18902915d69"
  },
  "kernelspec": {
   "display_name": "Python 3.7.5 64-bit",
   "language": "python",
   "name": "python3"
  },
  "language_info": {
   "codemirror_mode": {
    "name": "ipython",
    "version": 3
   },
   "file_extension": ".py",
   "mimetype": "text/x-python",
   "name": "python",
   "nbconvert_exporter": "python",
   "pygments_lexer": "ipython3",
   "version": "3.7.5"
  },
  "orig_nbformat": 4
 },
 "nbformat": 4,
 "nbformat_minor": 2
}
