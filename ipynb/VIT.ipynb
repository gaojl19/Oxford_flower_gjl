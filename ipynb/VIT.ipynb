{
 "cells": [
  {
   "cell_type": "code",
   "execution_count": 1,
   "metadata": {},
   "outputs": [
    {
     "name": "stderr",
     "output_type": "stream",
     "text": [
      "\u001b[38;5;2m[i 0327 08:13:19.188901 04 compiler.py:949] Jittor(1.3.1.53) src: /usr/local/lib/python3.7/dist-packages/jittor\u001b[m\n",
      "\u001b[38;5;2m[i 0327 08:13:19.196267 04 compiler.py:950] g++ at /usr/bin/g++(7.5.0)\u001b[m\n",
      "\u001b[38;5;2m[i 0327 08:13:19.197599 04 compiler.py:951] cache_path: /root/.cache/jittor/jt1.3.1/g++7.5.0/py3.7.5/Linux-5.4.0-96x21/IntelRXeonRCPUx84/default\u001b[m\n",
      "\u001b[38;5;2m[i 0327 08:13:19.203732 04 __init__.py:411] Found /usr/local/cuda/bin/nvcc(10.2.89) at /usr/local/cuda/bin/nvcc.\u001b[m\n",
      "\u001b[38;5;2m[i 0327 08:13:19.210206 04 __init__.py:411] Found addr2line(2.30) at /usr/bin/addr2line.\u001b[m\n",
      "\u001b[38;5;2m[i 0327 08:13:19.330457 04 compiler.py:1004] cuda key:cu10.2.89_sm_61\u001b[m\n",
      "\u001b[38;5;2m[i 0327 08:13:19.536126 04 __init__.py:227] Total mem: 219.71GB, using 16 procs for compiling.\u001b[m\n",
      "\u001b[38;5;2m[i 0327 08:13:19.683775 04 jit_compiler.cc:28] Load cc_path: /usr/bin/g++\u001b[m\n",
      "\u001b[38;5;2m[i 0327 08:13:19.945613 04 init.cc:62] Found cuda archs: [61,]\u001b[m\n",
      "\u001b[38;5;2m[i 0327 08:13:20.103846 04 __init__.py:411] Found mpicc(2.1.1) at /usr/bin/mpicc.\u001b[m\n",
      "\u001b[38;5;2m[i 0327 08:13:20.223193 04 compile_extern.py:30] found /usr/include/cublas.h\u001b[m\n",
      "\u001b[38;5;2m[i 0327 08:13:20.235933 04 compile_extern.py:30] found /usr/lib/x86_64-linux-gnu/libcublas.so\u001b[m\n",
      "\u001b[38;5;2m[i 0327 08:13:20.237143 04 compile_extern.py:30] found /usr/lib/x86_64-linux-gnu/libcublasLt.so.10\u001b[m\n",
      "\u001b[38;5;2m[i 0327 08:13:20.431030 04 compile_extern.py:30] found /usr/include/cudnn.h\u001b[m\n",
      "\u001b[38;5;2m[i 0327 08:13:20.444927 04 compile_extern.py:30] found /usr/lib/x86_64-linux-gnu/libcudnn.so\u001b[m\n",
      "\u001b[38;5;2m[i 0327 08:13:21.154004 04 compile_extern.py:30] found /usr/local/cuda/include/curand.h\u001b[m\n",
      "\u001b[38;5;2m[i 0327 08:13:21.174806 04 compile_extern.py:30] found /usr/local/cuda/lib64/libcurand.so\u001b[m\n",
      "\u001b[38;5;2m[i 0327 08:13:21.475113 04 dataset.py:630] Found 102 classes and 1020 images.\u001b[m\n",
      "\u001b[38;5;2m[i 0327 08:13:21.481605 04 dataset.py:630] Found 102 classes and 1020 images.\u001b[m\n",
      "\u001b[38;5;2m[i 0327 08:13:21.506494 04 dataset.py:630] Found 102 classes and 6149 images.\u001b[m\n",
      "\u001b[38;5;2m[i 0327 08:13:22.050847 04 cuda_flags.cc:32] CUDA enabled.\u001b[m\n",
      "Test acc=0.36: 100%|██████████| 6149/6149 [02:12<00:00, 46.27it/s]\n"
     ]
    },
    {
     "data": {
      "text/plain": [
       "<Figure size 2160x2160 with 0 Axes>"
      ]
     },
     "metadata": {},
     "output_type": "display_data"
    },
    {
     "data": {
      "image/png": "[encoded data removed]",
      "text/plain": [
       "<Figure size 432x288 with 1 Axes>"
      ]
     },
     "metadata": {
      "needs_background": "light"
     },
     "output_type": "display_data"
    },
    {
     "data": {
      "text/plain": [
       "<Figure size 432x288 with 0 Axes>"
      ]
     },
     "metadata": {},
     "output_type": "display_data"
    },
    {
     "data": {
      "image/png": "[encoded data removed]",
      "text/plain": [
       "<Figure size 432x288 with 1 Axes>"
      ]
     },
     "metadata": {
      "needs_background": "light"
     },
     "output_type": "display_data"
    },
    {
     "data": {
      "text/plain": [
       "<Figure size 432x288 with 0 Axes>"
      ]
     },
     "metadata": {},
     "output_type": "display_data"
    }
   ],
   "source": [
    "from ast import parse\n",
    "import jittor as jt\n",
    "from jittor import nn\n",
    "from jittor.lr_scheduler import CosineAnnealingLR, MultiStepLR\n",
    "from matplotlib.pyplot import plot\n",
    "\n",
    "import datasets\n",
    "from datasets.dataloader import *\n",
    "\n",
    "import models\n",
    "from models.model import *\n",
    "from models.transformer import *\n",
    "\n",
    "import tools\n",
    "from tools.train import *\n",
    "\n",
    "import os\n",
    "import json\n",
    "\n",
    "jt.flags.use_cuda = 1\n",
    "jt.set_global_seed(648)\n",
    "\n",
    "# 加载模型\n",
    "def build_model(model_type):\n",
    "    if model_type == \"ConvMixer\":\n",
    "        model = ConvMixer_768_32()\n",
    "    elif model_type == \"MLPMixer\":\n",
    "        model = MLPMixer_S_16()\n",
    "    elif model_type == \"VIT\":\n",
    "        model = vit_small_patch16_224()\n",
    "    else:\n",
    "        raise NotImplementedError(\"model type {model_type} is not supported right now\\n\")\n",
    "    \n",
    "    return model\n",
    "\n",
    "\n",
    "def test():\n",
    "    \n",
    "    model = build_model(\"VIT\")\n",
    "\n",
    "    # 从checkpoint中加载\n",
    "    \n",
    "    model.load(\"./log/ViT_lr0.0001/\"+ \"model_best.pkl\")\n",
    "    \n",
    "    test_one_epoch(model, testdataset)\n",
    "    \n",
    "\n",
    "\n",
    "\n",
    "test()\n",
    "    \n",
    "\n",
    "    "
   ]
  }
 ],
 "metadata": {
  "interpreter": {
   "hash": "fd69f43f58546b570e94fd7eba7b65e6bcc7a5bbc4eab0408017d18902915d69"
  },
  "kernelspec": {
   "display_name": "Python 3.7.5 64-bit",
   "language": "python",
   "name": "python3"
  },
  "language_info": {
   "codemirror_mode": {
    "name": "ipython",
    "version": 3
   },
   "file_extension": ".py",
   "mimetype": "text/x-python",
   "name": "python",
   "nbconvert_exporter": "python",
   "pygments_lexer": "ipython3",
   "version": "3.7.5"
  },
  "orig_nbformat": 4
 },
 "nbformat": 4,
 "nbformat_minor": 2
}
